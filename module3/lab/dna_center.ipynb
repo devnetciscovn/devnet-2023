{
 "cells": [
  {
   "attachments": {},
   "cell_type": "markdown",
   "metadata": {},
   "source": [
    "Get Token By Auth String"
   ]
  },
  {
   "cell_type": "code",
   "execution_count": null,
   "metadata": {},
   "outputs": [],
   "source": [
    "import requests\n",
    "from dna_credentials import auth_string, base_url\n",
    "\n",
    "url = f'{base_url}/system/api/v1/auth/token'\n",
    "headers = {\n",
    "    'Authorization': f'Basic {auth_string}'\n",
    "}\n",
    "response = requests.post(url, headers=headers, verify=False)\n",
    "print('status code: ', response.status_code)\n",
    "token = response.json()['Token']\n",
    "print('token: ', token)"
   ]
  },
  {
   "attachments": {},
   "cell_type": "markdown",
   "metadata": {},
   "source": [
    "Get Token By Username And Password"
   ]
  },
  {
   "cell_type": "code",
   "execution_count": null,
   "metadata": {},
   "outputs": [],
   "source": [
    "import requests\n",
    "from dna_credentials import base_url, username, password\n",
    "\n",
    "url = f'{base_url}/system/api/v1/auth/token'\n",
    "\n",
    "response = requests.post(url, auth=(username, password), verify=False)\n",
    "print(response.status_code)\n",
    "token = response.json()[\"Token\"]\n",
    "print(token)"
   ]
  },
  {
   "attachments": {},
   "cell_type": "markdown",
   "metadata": {},
   "source": [
    "LIST DEVICES"
   ]
  },
  {
   "cell_type": "code",
   "execution_count": null,
   "metadata": {},
   "outputs": [],
   "source": [
    "import requests\n",
    "url = 'https://sandboxdnac.cisco.com/api/v1/network-device'\n",
    "headers = {\n",
    "    'x-auth-token': token\n",
    "}\n",
    "\n",
    "response = requests.get(url, headers=headers, verify=False)\n",
    "response.status_code"
   ]
  },
  {
   "cell_type": "code",
   "execution_count": null,
   "metadata": {},
   "outputs": [],
   "source": [
    "response.json()"
   ]
  },
  {
   "cell_type": "code",
   "execution_count": null,
   "metadata": {},
   "outputs": [],
   "source": [
    "response.json()['response']"
   ]
  },
  {
   "cell_type": "code",
   "execution_count": null,
   "metadata": {},
   "outputs": [],
   "source": [
    "for device in response.json()['response']:\n",
    "    print(device)"
   ]
  },
  {
   "cell_type": "code",
   "execution_count": 33,
   "metadata": {},
   "outputs": [
    {
     "name": "stdout",
     "output_type": "stream",
     "text": [
      "Device Name    IP Address          Device Role         Software       Release        \n",
      "sw1            10.10.20.175        DISTRIBUTION        IOS-XE         17.9.20220318:182713\n",
      "sw2            10.10.20.176        DISTRIBUTION        IOS-XE         17.9.20220318:182713\n",
      "sw3            10.10.20.177        ACCESS              IOS-XE         17.9.20220318:182713\n",
      "sw4            10.10.20.178        ACCESS              IOS-XE         17.9.20220318:182713\n"
     ]
    }
   ],
   "source": [
    "headline = '{0:15}{1:20}{2:20}{3:15}{4:15}'.format(\n",
    "    'Device Name', 'IP Address', 'Device Role', 'Software', 'Release')\n",
    "print(headline)\n",
    "\n",
    "\n",
    "for device in response.json()['response']:\n",
    "    output = '{0:15}{1:20}{2:20}{3:15}{4:15}'.format(device['hostname'], device['managementIpAddress'],\n",
    "                                                     device['role'], device['softwareType'], device['softwareVersion'])\n",
    "    print(output)"
   ]
  }
 ],
 "metadata": {
  "kernelspec": {
   "display_name": "Python 3",
   "language": "python",
   "name": "python3"
  },
  "language_info": {
   "codemirror_mode": {
    "name": "ipython",
    "version": 3
   },
   "file_extension": ".py",
   "mimetype": "text/x-python",
   "name": "python",
   "nbconvert_exporter": "python",
   "pygments_lexer": "ipython3",
   "version": "3.10.6"
  },
  "orig_nbformat": 4
 },
 "nbformat": 4,
 "nbformat_minor": 2
}
