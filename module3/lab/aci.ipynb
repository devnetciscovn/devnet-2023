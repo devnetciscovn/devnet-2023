{
 "cells": [
  {
   "cell_type": "code",
   "execution_count": null,
   "metadata": {},
   "outputs": [],
   "source": [
    "import requests\n",
    "\n",
    "url = 'https://sandboxapicdc.cisco.com/api/aaaLogin.json'\n",
    "\n",
    "body = {\n",
    "    \"aaaUser\": {\"attributes\": {\n",
    "        \"name\": \"admin\",\n",
    "        \"pwd\": \"!v3G@!4@Y\"}\n",
    "    }}\n",
    "\n",
    "response = requests.post(url, json=body, verify=False)\n",
    "response.status_code"
   ]
  },
  {
   "cell_type": "code",
   "execution_count": null,
   "metadata": {},
   "outputs": [],
   "source": [
    "cookies = response.cookies"
   ]
  },
  {
   "cell_type": "code",
   "execution_count": null,
   "metadata": {},
   "outputs": [],
   "source": [
    "url = 'https://sandboxapicdc.cisco.com/api/node/class/fvTenant.json'\n",
    "\n",
    "response = requests.get(url, cookies=cookies, verify=False)\n",
    "response.status_code"
   ]
  },
  {
   "cell_type": "code",
   "execution_count": 15,
   "metadata": {},
   "outputs": [
    {
     "name": "stdout",
     "output_type": "stream",
     "text": [
      "SnV\n",
      "VF_SA\n",
      "Scripting\n",
      "Zahid-Tenant\n",
      "ahmed\n",
      "XYZ\n",
      "thomas-tenant\n",
      "Production\n",
      "tf_tn2\n",
      "tf_tn5\n",
      "tf_tn4\n",
      "tf_tn3\n",
      "tf_tn1\n",
      "oneaciapp\n",
      "SW1-NCC\n",
      "Chocolatefudgycookies\n",
      "testcsr\n",
      "Prueba_01\n",
      "ABC\n",
      "Test\n",
      "DEV\n",
      "11_HMS\n",
      "XYZ_Tenant_24thmay_demo\n",
      "Heroes\n",
      "NSE-DEV\n",
      "infra\n",
      "common\n",
      "mgmt\n",
      "EIS-PROD\n",
      "challenge-403\n",
      "pod-12-challenge-408\n",
      "Pod-12\n",
      "ExternalDMZ\n",
      "global-Nedbank-Tenant\n"
     ]
    }
   ],
   "source": [
    "for tenant in response.json()['imdata']:\n",
    "    print(tenant['fvTenant']['attributes']['name'])"
   ]
  }
 ],
 "metadata": {
  "kernelspec": {
   "display_name": "Python 3",
   "language": "python",
   "name": "python3"
  },
  "language_info": {
   "codemirror_mode": {
    "name": "ipython",
    "version": 3
   },
   "file_extension": ".py",
   "mimetype": "text/x-python",
   "name": "python",
   "nbconvert_exporter": "python",
   "pygments_lexer": "ipython3",
   "version": "3.10.6"
  },
  "orig_nbformat": 4
 },
 "nbformat": 4,
 "nbformat_minor": 2
}
